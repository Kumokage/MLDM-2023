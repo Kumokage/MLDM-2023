{
 "cells": [
  {
   "cell_type": "markdown",
   "metadata": {
    "colab_type": "text",
    "id": "view-in-github"
   },
   "source": [
    "<a href=\"https://colab.research.google.com/github/HSE-LAMBDA/MLDM-2022/blob/master/02-linear-regression/LinearRegression_HW.ipynb\" target=\"_parent\"><img src=\"https://colab.research.google.com/assets/colab-badge.svg\" alt=\"Open In Colab\"/></a>"
   ]
  },
  {
   "cell_type": "code",
   "execution_count": null,
   "metadata": {
    "colab": {},
    "colab_type": "code",
    "id": "OoRenk6WqY4R"
   },
   "outputs": [],
   "source": [
    "import numpy as np\n",
    "import matplotlib.pyplot as plt"
   ]
  },
  {
   "cell_type": "markdown",
   "metadata": {
    "colab_type": "text",
    "id": "s8renktssa3B"
   },
   "source": [
    "## Task 1 (3 points)"
   ]
  },
  {
   "cell_type": "markdown",
   "metadata": {
    "colab_type": "text",
    "id": "CT2JoHS6qwO3"
   },
   "source": [
    "Consider the following toy dataset:"
   ]
  },
  {
   "cell_type": "code",
   "execution_count": null,
   "metadata": {
    "colab": {},
    "colab_type": "code",
    "id": "Iw0VSmXsqjt9"
   },
   "outputs": [],
   "source": [
    "true_function = lambda x: 3.25 * x - 1.47\n",
    "noize_function = lambda x: (\n",
    "    np.random.normal(size=len(x)) * 4. +\n",
    "    np.where(\n",
    "        x < 15,\n",
    "        0.,\n",
    "        -60 + np.random.normal(size=len(x)) * 10\n",
    "    ) * (np.random.uniform(size=len(x)) < 0.4).astype(int)\n",
    ")\n",
    "limits = (-4., 20.)\n",
    "\n",
    "def generate_dataset(N=300):\n",
    "  x = np.random.uniform(*limits, size=N)\n",
    "  y = true_function(x) + noize_function(x)\n",
    "\n",
    "  return x[:,None], y\n",
    "\n",
    "X, y = generate_dataset()\n",
    "\n",
    "x = np.linspace(*limits, 101)\n",
    "plt.plot(x, true_function(x), c='black', label='True dependence')\n",
    "plt.scatter(X, y, s=10, label='Data with noise and outliers')\n",
    "plt.legend();"
   ]
  },
  {
   "cell_type": "markdown",
   "metadata": {
    "colab_type": "text",
    "id": "Hb2ZSiiiscQy"
   },
   "source": [
    "Implement a linear model $\\hat y(x|w) = w_1\\cdot x + w_0$ with MAE loss:\n",
    "$$\\text{MAE}(w) = \\frac{1}{N}\\sum_{i=1}^N\\left|y_i - \\hat y(x_i|w)\\right|,$$\n",
    "using gradient descent optimization in `numpy`.\n",
    "\n",
    "*Hint: introduce a constant feature to account for the bias term to make the formulas simpler.*\n",
    "\n",
    "Plot the learning curve and the final fit. Also, fit the same data with `sklearn`'s `LinearRegression`, and compare the two fits on the same plot. What do you observe? Write a short comment."
   ]
  },
  {
   "cell_type": "code",
   "execution_count": null,
   "metadata": {
    "colab": {},
    "colab_type": "code",
    "id": "8dUH95L7sETn"
   },
   "outputs": [],
   "source": [
    "<YOUR CODE>"
   ]
  },
  {
   "cell_type": "markdown",
   "metadata": {},
   "source": [
    "## Task 2 (2 + 1 points)"
   ]
  },
  {
   "cell_type": "markdown",
   "metadata": {},
   "source": [
    "* Wrap your solution from the previous task into a class. Plot the learning curve and the final fit. Compare and comment your results with the previos ones. **(2 points)**\n",
    "\n",
    "* Make it possible to choose a loss function. **(1 point)**"
   ]
  },
  {
   "cell_type": "code",
   "execution_count": null,
   "metadata": {},
   "outputs": [],
   "source": [
    "from sklearn.base import BaseEstimator, RegressorMixin"
   ]
  },
  {
   "cell_type": "code",
   "execution_count": null,
   "metadata": {},
   "outputs": [],
   "source": [
    "class LinearRergessionSGD(BaseEstimator, RegressorMixin):\n",
    "    def __init__(self):\n",
    "        raise NotImplementedError\n",
    "\n",
    "    def fit(self, x, y):\n",
    "        raise NotImplementedError\n",
    "\n",
    "    def predict(self, x):\n",
    "        raise NotImplementedError\n",
    "    \n",
    "    def fit_predict(self, x, y):\n",
    "        raise NotImplementedError"
   ]
  },
  {
   "cell_type": "code",
   "execution_count": null,
   "metadata": {},
   "outputs": [],
   "source": [
    "<YOUR CODE>"
   ]
  }
 ],
 "metadata": {
  "colab": {
   "authorship_tag": "ABX9TyOAJnlQLeUs7yTF4/3n2RFU",
   "collapsed_sections": [],
   "include_colab_link": true,
   "name": "LinearRegression_HW.ipynb",
   "provenance": []
  },
  "kernelspec": {
   "display_name": "Python 3 (ipykernel)",
   "language": "python",
   "name": "python3"
  },
  "language_info": {
   "codemirror_mode": {
    "name": "ipython",
    "version": 3
   },
   "file_extension": ".py",
   "mimetype": "text/x-python",
   "name": "python",
   "nbconvert_exporter": "python",
   "pygments_lexer": "ipython3",
   "version": "3.8.11"
  }
 },
 "nbformat": 4,
 "nbformat_minor": 1
}
